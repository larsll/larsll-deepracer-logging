{
 "cells": [
  {
   "cell_type": "code",
   "execution_count": 45,
   "metadata": {},
   "outputs": [],
   "source": [
    "import cv2\n",
    "import os\n",
    "import rosbag2_py\n",
    "\n",
    "from sensor_msgs.msg import Image\n",
    "from cv_bridge import CvBridge\n",
    "from deepracer_interfaces_pkg.msg import InferResultsArray, InferResults\n",
    "from rclpy.serialization import deserialize_message\n",
    "\n",
    "from matplotlib import pyplot as plt\n",
    "import pandas as pd"
   ]
  },
  {
   "cell_type": "code",
   "execution_count": 46,
   "metadata": {},
   "outputs": [],
   "source": [
    "bridge = CvBridge()"
   ]
  },
  {
   "cell_type": "code",
   "execution_count": 47,
   "metadata": {},
   "outputs": [],
   "source": [
    "def get_rosbag_options(path, serialization_format='cdr'):\n",
    "    storage_options = rosbag2_py.StorageOptions(uri=path, storage_id='sqlite3')\n",
    "\n",
    "    converter_options = rosbag2_py.ConverterOptions(\n",
    "        input_serialization_format=serialization_format,\n",
    "        output_serialization_format=serialization_format)\n",
    "\n",
    "    return storage_options, converter_options"
   ]
  },
  {
   "cell_type": "code",
   "execution_count": 48,
   "metadata": {},
   "outputs": [],
   "source": [
    "bag_path = '/workspaces/deepracer-devel/output/reinvent_logs/deepracer-bag-20221201-165534'"
   ]
  },
  {
   "cell_type": "code",
   "execution_count": 49,
   "metadata": {},
   "outputs": [
    {
     "name": "stderr",
     "output_type": "stream",
     "text": [
      "[INFO] [1673472533.427147179] [rosbag2_storage]: Opened database '/workspaces/deepracer-devel/output/reinvent_logs/deepracer-bag-20221201-165534/deepracer-bag-20221201-165534_0.db3' for READ_ONLY.\n"
     ]
    }
   ],
   "source": [
    "storage_options, converter_options = get_rosbag_options(bag_path)\n",
    "\n",
    "reader = rosbag2_py.SequentialReader()\n",
    "reader.open(storage_options, converter_options)"
   ]
  },
  {
   "cell_type": "code",
   "execution_count": 50,
   "metadata": {},
   "outputs": [],
   "source": [
    "storage_filter = rosbag2_py.StorageFilter(topics=['/inference_pkg/rl_results'])\n",
    "reader.set_filter(storage_filter)\n",
    "\n",
    "first_stamp = -1\n",
    "steps_data = {'steps': []}\n",
    "\n",
    "while reader.has_next():\n",
    "    step = {}\n",
    "    \n",
    "    (topic, data, t) = reader.read_next()\n",
    "    msg = deserialize_message(data, InferResultsArray)\n",
    "\n",
    "    # Timestamp\n",
    "    timestamp: float = (msg.images[0].header.stamp.sec + msg.images[0].header.stamp.nanosec / 1e9)\n",
    "\n",
    "    if first_stamp == -1:\n",
    "        first_stamp = timestamp\n",
    "        timestamp = 0\n",
    "    else:\n",
    "        timestamp = timestamp - first_stamp\n",
    "\n",
    "    step['timestamp'] = timestamp\n",
    "    step['seq'] = int(msg.images[0].header.frame_id)\n",
    "\n",
    "    # Image\n",
    "    cv_img = bridge.compressed_imgmsg_to_cv2(msg.images[0], desired_encoding=\"passthrough\")\n",
    "    cv_img = cv2.cvtColor(cv_img, cv2.COLOR_BGRA2RGB)\n",
    "    # step['img'] = cv_img\n",
    "    step['action_taken'] = {'action': -1, 'probability': -1}\n",
    "\n",
    "    # Results\n",
    "    step['results'] = []\n",
    "\n",
    "    for r in msg.results:\n",
    "        step['results'].append({'action': r.class_label, 'probability': r.class_prob})\n",
    "        if r.class_prob > step['action_taken']['probability']:\n",
    "            step['action_taken'] = {'action': r.class_label, 'probability': r.class_prob}\n",
    "\n",
    "    steps_data['steps'].append(step)\n"
   ]
  },
  {
   "cell_type": "code",
   "execution_count": 57,
   "metadata": {},
   "outputs": [
    {
     "name": "stdout",
     "output_type": "stream",
     "text": [
      "Loaded 1046 steps.\n",
      "Duration 34.85 seconds\n",
      "Average FPS: 30.0\n"
     ]
    }
   ],
   "source": [
    "df = pd.json_normalize(steps_data['steps'])\n",
    "steps = df['seq'].max() - df['seq'].min()\n",
    "print(\"Loaded {} steps.\".format(steps))\n",
    "print(\"Duration {:.2f} seconds\".format(df['timestamp'].max()))\n",
    "print(\"Average FPS: {:.1f}\".format(steps / df['timestamp'].max()))"
   ]
  },
  {
   "cell_type": "code",
   "execution_count": 53,
   "metadata": {},
   "outputs": [
    {
     "data": {
      "text/html": [
       "<div>\n",
       "<style scoped>\n",
       "    .dataframe tbody tr th:only-of-type {\n",
       "        vertical-align: middle;\n",
       "    }\n",
       "\n",
       "    .dataframe tbody tr th {\n",
       "        vertical-align: top;\n",
       "    }\n",
       "\n",
       "    .dataframe thead th {\n",
       "        text-align: right;\n",
       "    }\n",
       "</style>\n",
       "<table border=\"1\" class=\"dataframe\">\n",
       "  <thead>\n",
       "    <tr style=\"text-align: right;\">\n",
       "      <th></th>\n",
       "      <th>timestamp</th>\n",
       "      <th>seq</th>\n",
       "      <th>action_taken.action</th>\n",
       "      <th>action_taken.probability</th>\n",
       "    </tr>\n",
       "  </thead>\n",
       "  <tbody>\n",
       "    <tr>\n",
       "      <th>0</th>\n",
       "      <td>0.000000</td>\n",
       "      <td>126314</td>\n",
       "      <td>1</td>\n",
       "      <td>0.725098</td>\n",
       "    </tr>\n",
       "    <tr>\n",
       "      <th>1</th>\n",
       "      <td>0.028482</td>\n",
       "      <td>126315</td>\n",
       "      <td>1</td>\n",
       "      <td>0.721680</td>\n",
       "    </tr>\n",
       "    <tr>\n",
       "      <th>2</th>\n",
       "      <td>0.061664</td>\n",
       "      <td>126316</td>\n",
       "      <td>1</td>\n",
       "      <td>0.714355</td>\n",
       "    </tr>\n",
       "    <tr>\n",
       "      <th>3</th>\n",
       "      <td>0.096733</td>\n",
       "      <td>126317</td>\n",
       "      <td>1</td>\n",
       "      <td>0.714844</td>\n",
       "    </tr>\n",
       "    <tr>\n",
       "      <th>4</th>\n",
       "      <td>0.129739</td>\n",
       "      <td>126318</td>\n",
       "      <td>1</td>\n",
       "      <td>0.720703</td>\n",
       "    </tr>\n",
       "    <tr>\n",
       "      <th>...</th>\n",
       "      <td>...</td>\n",
       "      <td>...</td>\n",
       "      <td>...</td>\n",
       "      <td>...</td>\n",
       "    </tr>\n",
       "    <tr>\n",
       "      <th>765</th>\n",
       "      <td>34.720185</td>\n",
       "      <td>127356</td>\n",
       "      <td>8</td>\n",
       "      <td>0.217163</td>\n",
       "    </tr>\n",
       "    <tr>\n",
       "      <th>766</th>\n",
       "      <td>34.752211</td>\n",
       "      <td>127357</td>\n",
       "      <td>8</td>\n",
       "      <td>0.222046</td>\n",
       "    </tr>\n",
       "    <tr>\n",
       "      <th>767</th>\n",
       "      <td>34.785455</td>\n",
       "      <td>127358</td>\n",
       "      <td>8</td>\n",
       "      <td>0.227539</td>\n",
       "    </tr>\n",
       "    <tr>\n",
       "      <th>768</th>\n",
       "      <td>34.821155</td>\n",
       "      <td>127359</td>\n",
       "      <td>8</td>\n",
       "      <td>0.224121</td>\n",
       "    </tr>\n",
       "    <tr>\n",
       "      <th>769</th>\n",
       "      <td>34.854671</td>\n",
       "      <td>127360</td>\n",
       "      <td>8</td>\n",
       "      <td>0.225342</td>\n",
       "    </tr>\n",
       "  </tbody>\n",
       "</table>\n",
       "<p>770 rows × 4 columns</p>\n",
       "</div>"
      ],
      "text/plain": [
       "     timestamp     seq  action_taken.action  action_taken.probability\n",
       "0     0.000000  126314                    1                  0.725098\n",
       "1     0.028482  126315                    1                  0.721680\n",
       "2     0.061664  126316                    1                  0.714355\n",
       "3     0.096733  126317                    1                  0.714844\n",
       "4     0.129739  126318                    1                  0.720703\n",
       "..         ...     ...                  ...                       ...\n",
       "765  34.720185  127356                    8                  0.217163\n",
       "766  34.752211  127357                    8                  0.222046\n",
       "767  34.785455  127358                    8                  0.227539\n",
       "768  34.821155  127359                    8                  0.224121\n",
       "769  34.854671  127360                    8                  0.225342\n",
       "\n",
       "[770 rows x 4 columns]"
      ]
     },
     "metadata": {},
     "output_type": "display_data"
    }
   ],
   "source": [
    "action_analysis = df[['timestamp','seq','action_taken.action','action_taken.probability']]\n",
    "display(action_analysis)"
   ]
  }
 ],
 "metadata": {
  "kernelspec": {
   "display_name": "Python 3",
   "language": "python",
   "name": "python3"
  },
  "language_info": {
   "codemirror_mode": {
    "name": "ipython",
    "version": 3
   },
   "file_extension": ".py",
   "mimetype": "text/x-python",
   "name": "python",
   "nbconvert_exporter": "python",
   "pygments_lexer": "ipython3",
   "version": "3.10.6 (main, Nov 14 2022, 16:10:14) [GCC 11.3.0]"
  },
  "orig_nbformat": 4,
  "vscode": {
   "interpreter": {
    "hash": "916dbcbb3f70747c44a77c7bcd40155683ae19c65e1c03b4aa3499c5328201f1"
   }
  }
 },
 "nbformat": 4,
 "nbformat_minor": 2
}
